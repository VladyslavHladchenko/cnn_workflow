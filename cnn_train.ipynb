{
 "cells": [
  {
   "cell_type": "code",
   "execution_count": 1,
   "metadata": {},
   "outputs": [],
   "source": [
    "%load_ext autoreload\n",
    "%autoreload 2"
   ]
  },
  {
   "cell_type": "markdown",
   "metadata": {},
   "source": [
    "### Train cnn on MNIST dataset and save results to `runs/<current time>/` directory.\n",
    "\n",
    "\n",
    "`runs/<current time>/` contains:\n",
    "- in `/models/` directory:\n",
    "    - model saved at each epoch as `<class name>_<epoch num>.pickle`\n",
    "    - model saved at last epoch as `<class name>.pickle`\n",
    "    - model and training parameters `params` in .pickle and .txt\n",
    "- in `/results/` directory:\n",
    "    - results dictionary for each epoch as `results_<epoch num>.pickle`\n",
    "    - results of all epochs in one file `results.pickle`"
   ]
  },
  {
   "cell_type": "code",
   "execution_count": 2,
   "metadata": {},
   "outputs": [],
   "source": [
    "from train import *\n",
    "from networks import *\n",
    "from utils import *\n",
    "import matplotlib.pyplot as plt\n",
    "from tqdm.autonotebook import tqdm\n",
    "\n",
    "plt.rcParams['figure.figsize'] = [16, 4]\n",
    "device = torch.device('cuda:1') if torch.cuda.is_available() else torch.device('cpu')"
   ]
  },
  {
   "cell_type": "code",
   "execution_count": 3,
   "metadata": {},
   "outputs": [
    {
     "name": "stdout",
     "output_type": "stream",
     "text": [
      "len(data_loader.train_set)= 54000\n",
      "len(data_loader.val_set)  = 6000\n",
      "len(data_loader.test_set) = 10000\n"
     ]
    }
   ],
   "source": [
    "data_args = dotdict()\n",
    "data_args.batch_size = 64\n",
    "data_args.val_fraction = 0.1\n",
    "data_loader = Data(data_args)\n",
    "print(f\"{len(data_loader.train_set)= }\")\n",
    "print(f\"{len(data_loader.val_set)  = }\")\n",
    "print(f\"{len(data_loader.test_set) = }\")"
   ]
  },
  {
   "cell_type": "markdown",
   "metadata": {},
   "source": [
    "Create models, train with learning rates 1.0 and 0.5 "
   ]
  },
  {
   "cell_type": "code",
   "execution_count": null,
   "metadata": {},
   "outputs": [],
   "source": [
    "for lr in [1, 0.5]:\n",
    "    epoch_num = 30\n",
    "\n",
    "    model = Net().to(device)\n",
    "    opt = optim.Adadelta(model.parameters(), lr=lr)\n",
    "    results = train(model, device, epoch_num, data_loader, opt, save_each_epoch=True)\n",
    "    torch.cuda.empty_cache()\n",
    "\n",
    "    test(model, device, data_loader.test_loader)\n",
    "\n",
    "    torch.cuda.empty_cache()"
   ]
  }
 ],
 "metadata": {
  "interpreter": {
   "hash": "ba9ad16284564897e6ed674966d1b4d8d2397326c6125fd054977b36741eac77"
  },
  "kernelspec": {
   "display_name": "Python 3.10.0 ('dle_env')",
   "language": "python",
   "name": "python3"
  },
  "language_info": {
   "codemirror_mode": {
    "name": "ipython",
    "version": 3
   },
   "file_extension": ".py",
   "mimetype": "text/x-python",
   "name": "python",
   "nbconvert_exporter": "python",
   "pygments_lexer": "ipython3",
   "version": "3.10.0"
  },
  "orig_nbformat": 4
 },
 "nbformat": 4,
 "nbformat_minor": 2
}
