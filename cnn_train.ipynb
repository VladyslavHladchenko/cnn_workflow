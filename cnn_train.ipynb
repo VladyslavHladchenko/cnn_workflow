{
 "cells": [
  {
   "cell_type": "code",
   "execution_count": 1,
   "metadata": {},
   "outputs": [],
   "source": [
    "%load_ext autoreload\n",
    "%autoreload 2"
   ]
  },
  {
   "cell_type": "markdown",
   "metadata": {},
   "source": [
    "### Train cnn on MNIST dataset and save results to `runs/<current time>/` directory.\n",
    "\n",
    "\n",
    "`runs/<current time>/` contains:\n",
    "- in `/models/` directory:\n",
    "    - model saved at each epoch as `<class name>_<epoch num>.pickle`\n",
    "    - model saved at last epoch as `<class name>.pickle`\n",
    "    - model and training parameters `params` in .pickle and .txt\n",
    "- in `/results/` directory:\n",
    "    - results dictionary for each epoch as `results_<epoch num>.pickle`\n",
    "    - results of all epochs in one file `results.pickle`"
   ]
  },
  {
   "cell_type": "code",
   "execution_count": 2,
   "metadata": {},
   "outputs": [],
   "source": [
    "from cnn_workflow import *\n",
    "from DataLoader import DataLoader\n",
    "from networks import *\n",
    "from utils import *\n",
    "import matplotlib.pyplot as plt\n",
    "from tqdm.autonotebook import tqdm\n",
    "\n",
    "plt.rcParams['figure.figsize'] = [16, 4]\n",
    "device = torch.device('cuda:7') if torch.cuda.is_available() else torch.device('cpu')"
   ]
  },
  {
   "cell_type": "code",
   "execution_count": 3,
   "metadata": {},
   "outputs": [
    {
     "name": "stdout",
     "output_type": "stream",
     "text": [
      "len(data_loader.train_set)= 54000\n",
      "len(data_loader.val_set)  = 6000\n",
      "len(data_loader.test_set) = 10000\n"
     ]
    }
   ],
   "source": [
    "data_loader = DataLoader(batch_size = 64, val_fraction = 0.1)\n",
    "print(f\"{len(data_loader.train_set)= }\")\n",
    "print(f\"{len(data_loader.val_set)  = }\")\n",
    "print(f\"{len(data_loader.test_set) = }\")"
   ]
  },
  {
   "cell_type": "markdown",
   "metadata": {},
   "source": [
    "Create models, train with learning rates 1.0 and 0.5 "
   ]
  },
  {
   "cell_type": "code",
   "execution_count": 4,
   "metadata": {},
   "outputs": [
    {
     "name": "stdout",
     "output_type": "stream",
     "text": [
      "Created dirs: \n",
      "\truns/2022-04-22 15_25_54 Net e=10 lr=0.5/models\n",
      "\truns/2022-04-22 15_25_54 Net e=10 lr=0.5/results\n"
     ]
    },
    {
     "data": {
      "application/vnd.jupyter.widget-view+json": {
       "model_id": "566b0efcd9c7460ab5fbe4876cad32e9",
       "version_major": 2,
       "version_minor": 0
      },
      "text/plain": [
       "  0%|          | 0/10 [00:00<?, ?it/s]"
      ]
     },
     "metadata": {},
     "output_type": "display_data"
    },
    {
     "name": "stdout",
     "output_type": "stream",
     "text": [
      "loss 0.0364, accuracy 0.99\n"
     ]
    }
   ],
   "source": [
    "# lrs = [1, 0.5]\n",
    "lrs = [0.5]\n",
    "\n",
    "for lr in lrs:\n",
    "    epoch_num = 10\n",
    "\n",
    "    model = Net().to(device)\n",
    "    opt = optim.Adadelta(model.parameters(), lr=lr)\n",
    "    results = train(model, device, data_loader, opt, epoch_num=epoch_num, save_epochs=True)\n",
    "    torch.cuda.empty_cache()\n",
    "\n",
    "    test(model, device, data_loader.test_loader)\n",
    "\n",
    "    torch.cuda.empty_cache()"
   ]
  }
 ],
 "metadata": {
  "interpreter": {
   "hash": "ba9ad16284564897e6ed674966d1b4d8d2397326c6125fd054977b36741eac77"
  },
  "kernelspec": {
   "display_name": "Python 3.10.0 ('dle_env')",
   "language": "python",
   "name": "python3"
  },
  "language_info": {
   "codemirror_mode": {
    "name": "ipython",
    "version": 3
   },
   "file_extension": ".py",
   "mimetype": "text/x-python",
   "name": "python",
   "nbconvert_exporter": "python",
   "pygments_lexer": "ipython3",
   "version": "3.10.4 (main, Mar 31 2022, 08:41:55) [GCC 7.5.0]"
  },
  "orig_nbformat": 4
 },
 "nbformat": 4,
 "nbformat_minor": 2
}
